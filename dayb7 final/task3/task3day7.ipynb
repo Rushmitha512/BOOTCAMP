{
 "cells": [
  {
   "cell_type": "code",
   "execution_count": 1,
   "metadata": {},
   "outputs": [
    {
     "name": "stdout",
     "output_type": "stream",
     "text": [
      "Requirement already satisfied: pandas in c:\\users\\hp\\appdata\\local\\programs\\python\\python313\\lib\\site-packages (2.2.3)\n",
      "Requirement already satisfied: openpyxl in c:\\users\\hp\\appdata\\local\\programs\\python\\python313\\lib\\site-packages (3.1.5)\n",
      "Requirement already satisfied: numpy>=1.26.0 in c:\\users\\hp\\appdata\\local\\programs\\python\\python313\\lib\\site-packages (from pandas) (2.2.3)\n",
      "Requirement already satisfied: python-dateutil>=2.8.2 in c:\\users\\hp\\appdata\\local\\programs\\python\\python313\\lib\\site-packages (from pandas) (2.9.0.post0)\n",
      "Requirement already satisfied: pytz>=2020.1 in c:\\users\\hp\\appdata\\local\\programs\\python\\python313\\lib\\site-packages (from pandas) (2025.1)\n",
      "Requirement already satisfied: tzdata>=2022.7 in c:\\users\\hp\\appdata\\local\\programs\\python\\python313\\lib\\site-packages (from pandas) (2025.1)\n",
      "Requirement already satisfied: et-xmlfile in c:\\users\\hp\\appdata\\local\\programs\\python\\python313\\lib\\site-packages (from openpyxl) (2.0.0)\n",
      "Requirement already satisfied: six>=1.5 in c:\\users\\hp\\appdata\\local\\programs\\python\\python313\\lib\\site-packages (from python-dateutil>=2.8.2->pandas) (1.17.0)\n",
      "Note: you may need to restart the kernel to use updated packages.\n"
     ]
    },
    {
     "name": "stderr",
     "output_type": "stream",
     "text": [
      "\n",
      "[notice] A new release of pip is available: 24.3.1 -> 25.0.1\n",
      "[notice] To update, run: python.exe -m pip install --upgrade pip\n"
     ]
    }
   ],
   "source": [
    "pip install pandas openpyxl"
   ]
  },
  {
   "cell_type": "code",
   "execution_count": 2,
   "metadata": {},
   "outputs": [
    {
     "name": "stdout",
     "output_type": "stream",
     "text": [
      "Dataset Preview:\n",
      "       country  1960  1961  1962  1963  1964  1965  1966  1967  1968  ...  \\\n",
      "0        Aruba   0.0   NaN   NaN   NaN   NaN   0.0   NaN   NaN   NaN  ...   \n",
      "1  Afghanistan   0.0   NaN   NaN   NaN   NaN   0.0   NaN   NaN   NaN  ...   \n",
      "2       Angola   0.0   NaN   NaN   NaN   NaN   0.0   NaN   NaN   NaN  ...   \n",
      "3      Albania   0.0   NaN   NaN   NaN   NaN   0.0   NaN   NaN   NaN  ...   \n",
      "4      Andorra   0.0   NaN   NaN   NaN   NaN   0.0   NaN   NaN   NaN  ...   \n",
      "\n",
      "    2014   2015   2016   2017   2018   2019   2020   2021   2022   2023  \n",
      "0   140k   141k    NaN    NaN    NaN   141k   141k   141k    NaN    NaN  \n",
      "1  18.4M  19.7M  21.6M  23.9M    22M  22.6M  22.7M  22.7M  22.8M    23M  \n",
      "2  14.1M  13.9M    13M  13.3M  13.3M  14.8M  14.6M  15.3M  23.7M  25.7M  \n",
      "3  3.36M   3.4M  3.37M  3.63M  2.71M  2.63M  2.62M  2.64M  2.78M  2.61M  \n",
      "4  66.2k  71.3k  76.1k  80.3k  82.6k  87.9k  80.4k  93.8k   114k   126k  \n",
      "\n",
      "[5 rows x 65 columns]\n",
      "\n",
      "Country with MAX cell phones for each year:\n",
      "1960        Aruba\n",
      "1961          NaN\n",
      "1962          NaN\n",
      "1963          NaN\n",
      "1964          NaN\n",
      "          ...    \n",
      "2019          USA\n",
      "2020    Indonesia\n",
      "2021    Indonesia\n",
      "2022          USA\n",
      "2023          USA\n",
      "Length: 64, dtype: object\n"
     ]
    },
    {
     "name": "stderr",
     "output_type": "stream",
     "text": [
      "C:\\Users\\HP\\AppData\\Local\\Temp\\ipykernel_3396\\1794131442.py:22: FutureWarning: DataFrame.applymap has been deprecated. Use DataFrame.map instead.\n",
      "  df.iloc[:, 1:] = df.iloc[:, 1:].applymap(convert_to_number)\n",
      "C:\\Users\\HP\\AppData\\Local\\Temp\\ipykernel_3396\\1794131442.py:25: FutureWarning: The behavior of DataFrame.idxmax with all-NA values, or any-NA and skipna=False, is deprecated. In a future version this will raise ValueError\n",
      "  max_countries = df.set_index(\"country\").idxmax()\n"
     ]
    }
   ],
   "source": [
    "import pandas as pd\n",
    "\n",
    "# Load dataset\n",
    "file_path = \"cell_phones_total.xlsx\"\n",
    "df = pd.read_excel(file_path, engine=\"openpyxl\")\n",
    "\n",
    "# Display dataset preview\n",
    "print(\"Dataset Preview:\")\n",
    "print(df.head())\n",
    "\n",
    "# Function to convert 'k' and 'M' values into numbers\n",
    "def convert_to_number(value):\n",
    "    if isinstance(value, str):\n",
    "        value = value.lower().replace(\",\", \"\")  # Remove commas\n",
    "        if \"k\" in value:\n",
    "            return float(value.replace(\"k\", \"\")) * 1_000\n",
    "        elif \"m\" in value:\n",
    "            return float(value.replace(\"m\", \"\")) * 1_000_000\n",
    "    return pd.to_numeric(value, errors=\"coerce\")  # Convert to number\n",
    "\n",
    "# Convert all year columns (skip first column 'country')\n",
    "df.iloc[:, 1:] = df.iloc[:, 1:].applymap(convert_to_number)\n",
    "\n",
    "# Find country with max cell phones for each year\n",
    "max_countries = df.set_index(\"country\").idxmax()\n",
    "\n",
    "# Print results\n",
    "print(\"\\nCountry with MAX cell phones for each year:\")\n",
    "print(max_countries)"
   ]
  }
 ],
 "metadata": {
  "kernelspec": {
   "display_name": "Python 3",
   "language": "python",
   "name": "python3"
  },
  "language_info": {
   "codemirror_mode": {
    "name": "ipython",
    "version": 3
   },
   "file_extension": ".py",
   "mimetype": "text/x-python",
   "name": "python",
   "nbconvert_exporter": "python",
   "pygments_lexer": "ipython3",
   "version": "3.13.2"
  }
 },
 "nbformat": 4,
 "nbformat_minor": 2
}
